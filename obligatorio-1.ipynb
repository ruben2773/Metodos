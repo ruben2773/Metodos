{
 "cells": [
  {
   "cell_type": "markdown",
   "metadata": {},
   "source": [
    "# Métodos Numéricos - Obligatorio 1"
   ]
  },
  {
   "cell_type": "markdown",
   "metadata": {
    "collapsed": true
   },
   "source": [
    "## Parte 1\n",
    "\n",
    "En esta parte de este trabajo se busca resolver el sistema $Ax=b$ por varios métodos.\n",
    "\n",
    "$$ A = \\begin{bmatrix} 29 & 34 & -10 \\\\ 34 & 41 & -12 \\\\ -10 & -12 & 24 \\end{bmatrix},\\ b = \\begin{bmatrix} 1 \\\\ 2 \\\\ 3 \\end{bmatrix}$$"
   ]
  },
  {
   "cell_type": "code",
   "execution_count": 2,
   "metadata": {
    "collapsed": false
   },
   "outputs": [
    {
     "data": {
      "text/plain": [
       "3-element Array{Float64,1}:\n",
       " -0.807692\n",
       "  0.769231\n",
       "  0.173077"
      ]
     },
     "execution_count": 2,
     "metadata": {},
     "output_type": "execute_result"
    }
   ],
   "source": [
    "import PyPlot\n",
    "\n",
    "A = [ 29.  34. -10.;\n",
    "      34.  41. -12.;\n",
    "     -10. -12.  24.]\n",
    "\n",
    "b = [1., 2., 3.]\n",
    "\n",
    "x_julia = A\\b"
   ]
  },
  {
   "cell_type": "markdown",
   "metadata": {},
   "source": [
    "### Escalerización Gaussiana"
   ]
  },
  {
   "cell_type": "code",
   "execution_count": 3,
   "metadata": {
    "collapsed": false
   },
   "outputs": [
    {
     "data": {
      "text/plain": [
       "substitucion_hacia_adelante (generic function with 1 method)"
      ]
     },
     "execution_count": 3,
     "metadata": {},
     "output_type": "execute_result"
    }
   ],
   "source": [
    "function substitucion_hacia_adelante(L::Array{Float64}, b::Array{Float64})\n",
    "    x = copy(b)\n",
    "    n = size(b, 1)\n",
    "    for j = 1:n\n",
    "        for k = 1:j-1\n",
    "            x[j] -= x[k] * L[j,k]\n",
    "        end\n",
    "        x[j] /= L[j,j]\n",
    "    end\n",
    "    x\n",
    "end"
   ]
  },
  {
   "cell_type": "code",
   "execution_count": 4,
   "metadata": {
    "collapsed": false
   },
   "outputs": [
    {
     "data": {
      "text/plain": [
       "substitucion_hacia_atras (generic function with 1 method)"
      ]
     },
     "execution_count": 4,
     "metadata": {},
     "output_type": "execute_result"
    }
   ],
   "source": [
    "function substitucion_hacia_atras(U::Array{Float64}, b::Array{Float64})\n",
    "    x = copy(b)\n",
    "    n = size(b, 1)\n",
    "    for j = n:-1:1\n",
    "        for k = j+1:n\n",
    "            x[j] -= x[k] * U[j,k]\n",
    "        end\n",
    "        x[j] /= U[j,j]\n",
    "    end\n",
    "    x\n",
    "end"
   ]
  },
  {
   "cell_type": "code",
   "execution_count": 5,
   "metadata": {
    "collapsed": false
   },
   "outputs": [
    {
     "data": {
      "text/plain": [
       "escalerizacion_gaussiana (generic function with 1 method)"
      ]
     },
     "execution_count": 5,
     "metadata": {},
     "output_type": "execute_result"
    }
   ],
   "source": [
    "function escalerizacion_gaussiana(A::Array{Float64}, b::Array{Float64})\n",
    "    n = size(b, 1)\n",
    "    p = Array(1:n) # indices de permutacion de filas\n",
    "    Ab = [A b]\n",
    "    \n",
    "    for i = 1:n\n",
    "        k = i\n",
    "        while Ab[p[k], i] == 0 # buscamos un pivot no nulo\n",
    "            k += 1\n",
    "        end\n",
    "        if k != i\n",
    "            p[i], p[k] = p[k], p[i] # permutacion de las filas i y k\n",
    "        end\n",
    "        \n",
    "        for j = i+1:n\n",
    "            Ab[p[j],:] += -(Ab[p[j],i] / Ab[p[i],i]) * Ab[p[i],:]\n",
    "        end\n",
    "    end\n",
    "    \n",
    "    U = Ab[p,1:n]\n",
    "    x = substitucion_hacia_atras(U, Ab[p,n+1])\n",
    "    x, U\n",
    "end"
   ]
  },
  {
   "cell_type": "code",
   "execution_count": 6,
   "metadata": {
    "collapsed": false
   },
   "outputs": [
    {
     "data": {
      "text/plain": [
       "3-element Array{Float64,1}:\n",
       " -0.807692\n",
       "  0.769231\n",
       "  0.173077"
      ]
     },
     "metadata": {},
     "output_type": "display_data"
    },
    {
     "data": {
      "text/plain": [
       "3×3 Array{Float64,2}:\n",
       " 29.0  34.0      -10.0     \n",
       "  0.0   1.13793   -0.275862\n",
       "  0.0   0.0       20.4848  "
      ]
     },
     "metadata": {},
     "output_type": "display_data"
    },
    {
     "name": "stdout",
     "output_type": "stream",
     "text": [
      "  0.441835 seconds (173.59 k allocations: 8.722 MiB)\n"
     ]
    }
   ],
   "source": [
    "@time x_gauss, U = escalerizacion_gaussiana(A, b)\n",
    "display(x_gauss)\n",
    "display(U)"
   ]
  },
  {
   "cell_type": "markdown",
   "metadata": {},
   "source": [
    "### Descomposición de Cholesky\n",
    "\n",
    "Si se tiene que $A = LL^T$, donde L es una matriz triangular inferior, podemos resolver el sistema $Ax=LL^Tx=b$ mediante la resolución de los dos sistemas triangulares $L^Tx=y$ y $Ly=b$. De hecho existe un teorema que afirma la existencia de esta descomposición para matrices simétricas y (semi)-definidas positivas, como es el caso de $A$.\n",
    "\n",
    "Para calcular $L$ se utiliza la siguiente identidad:\n",
    "\n",
    "$$ A_0 = H_0 = \\begin{bmatrix} d_1 & v_1^T \\\\ v_1 & \\bar{H}_1 \\end{bmatrix} = \\begin{bmatrix} \\sqrt{d_1} & 0 \\\\ \\frac{v_1}{\\sqrt{d_1}} & I_{n-1} \\end{bmatrix} \\begin{bmatrix} 1 & 0 \\\\ 0 & \\bar{H}_1 - \\frac{v_1 v_1^T}{d_1} \\end{bmatrix} \\begin{bmatrix} \\sqrt{d_1} & \\frac{v_1^T}{\\sqrt{d_1}} \\\\ 0 & I_{n-1} \\end{bmatrix} = L_1 \\begin{bmatrix} 1 & 0 \\\\ 0 & H_1 \\end{bmatrix} L_1^T$$\n",
    "\n",
    "Se toma $A_0 = H_0 = A, \\ A_1 = \\begin{bmatrix} 1 & 0 \\\\ 0 & H_1 \\end{bmatrix}$, etc. Se puede concluir que $A = L_1L_2 \\dots L_nL_n^T \\dots L_2^TL_1^T = LL^T$ y que la columna $j$ de $L$ es igual a la columna $j$ de $L_j$."
   ]
  },
  {
   "cell_type": "code",
   "execution_count": 7,
   "metadata": {
    "collapsed": false
   },
   "outputs": [
    {
     "data": {
      "text/plain": [
       "cholesky (generic function with 1 method)"
      ]
     },
     "execution_count": 7,
     "metadata": {},
     "output_type": "execute_result"
    }
   ],
   "source": [
    "function cholesky(A::Array{Float64})\n",
    "    n = size(A, 1)\n",
    "    H = copy(A)\n",
    "    L = zeros(n, n)\n",
    "    for k = 1:n\n",
    "        d = H[k,k]\n",
    "        v = H[k+1:n,k]\n",
    "        sd = sqrt(d)\n",
    "        L[k,k] = sd\n",
    "        L[k+1:n,k] = v / sd\n",
    "        H[k+1:n,k+1:n] -= (v * v') / d\n",
    "    end\n",
    "    L\n",
    "end"
   ]
  },
  {
   "cell_type": "code",
   "execution_count": 8,
   "metadata": {
    "collapsed": false
   },
   "outputs": [
    {
     "data": {
      "text/plain": [
       "solucion_cholesky (generic function with 1 method)"
      ]
     },
     "execution_count": 8,
     "metadata": {},
     "output_type": "execute_result"
    }
   ],
   "source": [
    "function solucion_cholesky(A::Array{Float64}, b::Array{Float64})\n",
    "    L = cholesky(A)\n",
    "    y = substitucion_hacia_adelante(L, b)\n",
    "    x = substitucion_hacia_atras(L', y)\n",
    "    x, L\n",
    "end"
   ]
  },
  {
   "cell_type": "code",
   "execution_count": 9,
   "metadata": {
    "collapsed": false,
    "scrolled": true
   },
   "outputs": [
    {
     "data": {
      "text/plain": [
       "3-element Array{Float64,1}:\n",
       " -0.807692\n",
       "  0.769231\n",
       "  0.173077"
      ]
     },
     "metadata": {},
     "output_type": "display_data"
    },
    {
     "data": {
      "text/plain": [
       "3×3 Array{Float64,2}:\n",
       "  5.38516   0.0       0.0    \n",
       "  6.31364   1.06674   0.0    \n",
       " -1.85695  -0.258603  4.52602"
      ]
     },
     "metadata": {},
     "output_type": "display_data"
    },
    {
     "name": "stdout",
     "output_type": "stream",
     "text": [
      "  0.488197 seconds (265.47 k allocations: 12.636 MiB, 2.44% gc time)\n"
     ]
    }
   ],
   "source": [
    "@time x_cholesky, L = solucion_cholesky(A, b)\n",
    "display(x_cholesky)\n",
    "display(L)"
   ]
  },
  {
   "cell_type": "markdown",
   "metadata": {},
   "source": [
    "## Métodos iterativos\n",
    "\n",
    "Conocida una relación de la forma $x = Q x + r$, tenemos un método iterativo asociado que parte de un $x_0$ cualquiera y aplica repetidamente la ecuación $x^{(k+1)} = Q x^{(k)} + r$. Si consideramos el error de cada $x^{(k)}$ en la sucesión que se obtiene, podemos ver que se cumple lo siguiente:\n",
    "\n",
    "$$ e^{(k+1)} = x^{(k+1)} - x = Q x^{(k)}+r - (Q x - r) = Q (x^{(k)} - x) = Q e^{(k)}$$\n",
    "\n",
    "Entonces el método converge cuando el radio espectral de $Q$ es menor a $1$, ya que cuando esto se cumple el error se reduce linealmente en norma en cada iteración y tiende a cero cuando $k$ aumenta.\n",
    "\n",
    "Para resolver un sistema $Ax = b$ descomponemos $A$ según $A = L + D + U$, donde $D$ es una matriz diagonal con $D_{ii} = A_{ii}$, $L$ es triangular inferior con $L_{ij} = A_{ij}$ para $j<i$ y $U$ es triangular superior con $U_{ij}$ para $i<j$.\n",
    "\n",
    "De esta descomposición, despejando de $Ax=(L + D + U)x=b$, surgen los métodos de Jacobi ($x = -D^{-1}(L+U)x + D^{-1}b$) y Gauss-Seidel ($x = -(D+L)^{-1}Ux + (D+L)^{-1}b$)."
   ]
  },
  {
   "cell_type": "code",
   "execution_count": 10,
   "metadata": {
    "collapsed": false
   },
   "outputs": [
    {
     "name": "stdout",
     "output_type": "stream",
     "text": [
      "  1.228023 seconds (735.14 k allocations: 37.009 MiB, 0.81% gc time)\n",
      "Error relativo Jacobi: 9.788063516619217e6\n"
     ]
    }
   ],
   "source": [
    "function jacobi(A::Array{Float64}, b::Array{Float64}, maxiter=100)\n",
    "    d = diag(A)\n",
    "    D = diagm(d)\n",
    "    Dinv = diagm(1./d)\n",
    "    L = tril(A) - D\n",
    "    U = triu(A) - D\n",
    "    Q = -Dinv*(L+U)\n",
    "    r = Dinv*b\n",
    "    \n",
    "    x = zeros(b)\n",
    "    e = zeros(maxiter)\n",
    "    for k in 1:maxiter\n",
    "        x = Q*x + r\n",
    "        e[k] = norm(x - x_julia)\n",
    "    end\n",
    "    x, e\n",
    "end\n",
    "\n",
    "@time x_jacobi, err_jacobi = jacobi(A, b)\n",
    "println(\"Error relativo Jacobi: \", norm((x_jacobi - x_julia) ./ x_julia))"
   ]
  },
  {
   "cell_type": "code",
   "execution_count": 11,
   "metadata": {
    "collapsed": false
   },
   "outputs": [
    {
     "data": {
      "image/png": "[encoded data removed]",
      "text/plain": [
       "PyPlot.Figure(PyObject <matplotlib.figure.Figure object at 0x7f5b055031d0>)"
      ]
     },
     "metadata": {},
     "output_type": "display_data"
    },
    {
     "data": {
      "text/plain": [
       "1-element Array{Any,1}:\n",
       " PyObject <matplotlib.lines.Line2D object at 0x7f5b0107c190>"
      ]
     },
     "execution_count": 11,
     "metadata": {},
     "output_type": "execute_result"
    }
   ],
   "source": [
    "# decir algo sobre la no convergencia de Jacobi...\n",
    "PyPlot.plot(err_jacobi)"
   ]
  },
  {
   "cell_type": "code",
   "execution_count": 12,
   "metadata": {
    "collapsed": false
   },
   "outputs": [
    {
     "name": "stdout",
     "output_type": "stream",
     "text": [
      "Error relativo Gauss-Seidel: 0.09128784061523743\n"
     ]
    }
   ],
   "source": [
    "function gauss_seidel(A::Array{Float64}, b::Array{Float64}, maxiter=100)\n",
    "    d = diag(A)\n",
    "    D = diagm(d)\n",
    "    L = tril(A) - D\n",
    "    U = triu(A) - D\n",
    "    DLinv = inv(D+L)\n",
    "    Q = -DLinv*U\n",
    "    r = DLinv*b\n",
    "    \n",
    "    x = zeros(b)\n",
    "    e = zeros(maxiter)\n",
    "    for k in 1:maxiter\n",
    "        x = Q*x + r\n",
    "        e[k] = norm(x - x_julia)\n",
    "    end\n",
    "    x, e\n",
    "end\n",
    "\n",
    "x_gauss_seidel, err_gauss_seidel = gauss_seidel(A, b)\n",
    "println(\"Error relativo Gauss-Seidel: \", norm((x_gauss_seidel - x_julia) ./ x_julia))"
   ]
  },
  {
   "cell_type": "code",
   "execution_count": 13,
   "metadata": {
    "collapsed": false
   },
   "outputs": [
    {
     "data": {
      "image/png": "[encoded data removed]",
      "text/plain": [
       "PyPlot.Figure(PyObject <matplotlib.figure.Figure object at 0x7f5b00fd3e90>)"
      ]
     },
     "metadata": {},
     "output_type": "display_data"
    },
    {
     "data": {
      "text/plain": [
       "1-element Array{Any,1}:\n",
       " PyObject <matplotlib.lines.Line2D object at 0x7f5b00f79710>"
      ]
     },
     "execution_count": 13,
     "metadata": {},
     "output_type": "execute_result"
    }
   ],
   "source": [
    "PyPlot.plot(err_gauss_seidel)"
   ]
  },
  {
   "cell_type": "markdown",
   "metadata": {},
   "source": [
    "## Parte 2\n",
    "\n",
    "Para resolver los sistemas $Bx=d$ y $Cx=e$, donde $B$ y $C$ son grandes matrices esparsas y simétricas, no podemos usar los métodos que usamos para la matriz $A$ sin modificación, ya que estos requieren $O(n^3)$ operaciones y estos algoritmos demorarían más tiempo del que tenemos disponible. Por eso debemos usar métodos que aprovechen las propiedades de estas matrices: la mayoría de los elementos de $B$ y $D$ son cero, lo que nos permite ahorrarnos aquellas operaciones que podamos concluír que van a resultar cero.\n",
    "\n",
    "Por ejemplo, si tenemos un vector $v$ de largo $n$ cuyos últimos $n-k$ elementos son nulos, para calcular $vv^T$ solo tenemos que hacer $k^2$ multiplicaciones en lugar de $n^2$, porque sabemos de antemano que $(vv^T)_{ij} = 0$ siempre que $k<i$ o $k<j$.\n",
    "\n",
    "En el cálculo de la descomposición de Choleski hay que hacer ese mismo cómputo, pero los $v$ cambian en cada iteración. Sin embargo, podemos ver por inducción que se puede acotar el número de elementos no nulos de $v$, y por consiguiente el número de operaciones que requiere el algoritmo. Para esto resulta útil el concepto de ancho de banda $\\beta$ de una matriz.\n",
    "\n",
    "$$\\beta_i = \\max\\{|i-j| : A_{ij} > 0 \\} $$\n",
    "\n",
    "Resulta que si $A$ es una matriz con ancho de banda $\\beta$, la matriz que resulta de la descomposición de Cholesky también tiene ancho de banda $\\beta$ y los $v$ no tienen más de $\\beta$ elementos no nulos en el correr del algoritmo. Esto implica que el algoritmo corre en $O(\\frac{1}{2}\\beta(\\beta + 3)n)$. Por eso es deseable que la matriz tenga un ancho de banda pequeño.\n",
    "\n",
    "No siempre una matriz esparsa tiene un ancho de banda chico. Por eso se buscan permutaciones de la matriz que reduzcan $\\beta$. Un algoritmo para encontrar una permutación conveniente es el de Cuthill-McKee."
   ]
  },
  {
   "cell_type": "code",
   "execution_count": 14,
   "metadata": {
    "collapsed": true
   },
   "outputs": [],
   "source": [
    "# se puede detallar mas porque son ciertas estas cosas\n",
    "# falta describir la interpretacion de matrices esparsas como grafos y el \n",
    "# algoritmo de cuthill mckee.\n",
    "\n",
    "# para resolver los sistemas esparsos se puede usar B\\d y C\\e, pero no se cuales son e y d."
   ]
  },
  {
   "cell_type": "markdown",
   "metadata": {},
   "source": [
    "Matrices:\n",
    "* [B: nasa1824][B]\n",
    "* [C: raefsky][C]\n",
    "\n",
    "[B]: https://www.cise.ufl.edu/research/sparse/matrices/Nasa/nasa1824.html\n",
    "[C]: https://www.cise.ufl.edu/research/sparse/matrices/Simon/raefsky4.html"
   ]
  },
  {
   "cell_type": "code",
   "execution_count": 15,
   "metadata": {
    "collapsed": false
   },
   "outputs": [
    {
     "name": "stderr",
     "output_type": "stream",
     "text": [
      "WARNING: Method definition decode_int_fmt(AbstractString) in module HarwellRutherfordBoeing at /home/juser/.julia/v0.6/HarwellRutherfordBoeing/src/hrb_utils.jl:4 overwritten at /home/juser/.julia/v0.6/HarwellRutherfordBoeing/src/hrb_utils.jl:4.\n",
      "WARNING: Method definition decode_real_fmt(AbstractString) in module HarwellRutherfordBoeing at /home/juser/.julia/v0.6/HarwellRutherfordBoeing/src/hrb_utils.jl:12 overwritten at /home/juser/.julia/v0.6/HarwellRutherfordBoeing/src/hrb_utils.jl:12.\n",
      "WARNING: Method definition standardize_real(AbstractString) in module HarwellRutherfordBoeing at /home/juser/.julia/v0.6/HarwellRutherfordBoeing/src/hrb_utils.jl:41 overwritten at /home/juser/.julia/v0.6/HarwellRutherfordBoeing/src/hrb_utils.jl:41.\n",
      "WARNING: Method definition read_array(IO, Int64, AbstractString) in module HarwellRutherfordBoeing at /home/juser/.julia/v0.6/HarwellRutherfordBoeing/src/hrb_utils.jl:55 overwritten at /home/juser/.julia/v0.6/HarwellRutherfordBoeing/src/hrb_utils.jl:55.\n",
      "WARNING: Method definition #read_array(Array{Any, 1}, typeof(HarwellRutherfordBoeing.read_array), IO, Int64, AbstractString) in module HarwellRutherfordBoeing overwritten.\n"
     ]
    },
    {
     "data": {
      "text/plain": [
       "Rutherford-Boeing data 817 of type rsa\n",
       "19779 rows, 19779 cols, 674195 nonzeros\n"
      ]
     },
     "execution_count": 15,
     "metadata": {},
     "output_type": "execute_result"
    }
   ],
   "source": [
    "import HarwellRutherfordBoeing;\n",
    "\n",
    "Brb = HarwellRutherfordBoeing.RutherfordBoeingData(\"nasa1824/nasa1824.rb\")\n",
    "Crb = HarwellRutherfordBoeing.RutherfordBoeingData(\"raefsky4/raefsky4.rb\")"
   ]
  },
  {
   "cell_type": "code",
   "execution_count": null,
   "metadata": {
    "collapsed": false
   },
   "outputs": [],
   "source": []
  },
  {
   "cell_type": "code",
   "execution_count": 16,
   "metadata": {
    "collapsed": false
   },
   "outputs": [],
   "source": [
    "B = Hermitian(Brb.data, :L);\n",
    "C = Hermitian(Crb.data, :L);"
   ]
  },
  {
   "cell_type": "code",
   "execution_count": 18,
   "metadata": {
    "collapsed": false
   },
   "outputs": [
    {
     "data": {
      "image/png": "[encoded data removed]",
      "text/plain": [
       "PyPlot.Figure(PyObject <matplotlib.figure.Figure object at 0x7f5b29599750>)"
      ]
     },
     "metadata": {},
     "output_type": "display_data"
    },
    {
     "name": "stdout",
     "output_type": "stream",
     "text": [
      "  1.314767 seconds (3.39 M allocations: 53.766 MiB, 19.22% gc time)\n"
     ]
    },
    {
     "data": {
      "text/plain": [
       "PyObject <matplotlib.image.AxesImage object at 0x7f5afcd82dd0>"
      ]
     },
     "execution_count": 18,
     "metadata": {},
     "output_type": "execute_result"
    }
   ],
   "source": [
    "@time PyPlot.spy(Brb.data)"
   ]
  },
  {
   "cell_type": "code",
   "execution_count": 17,
   "metadata": {
    "collapsed": false
   },
   "outputs": [
    {
     "data": {
      "image/png": "[encoded data removed]",
      "text/plain": [
       "PyPlot.Figure(PyObject <matplotlib.figure.Figure object at 0x7f5b00f6d4d0>)"
      ]
     },
     "metadata": {},
     "output_type": "display_data"
    },
    {
     "name": "stdout",
     "output_type": "stream",
     "text": [
      "  1.365283 seconds (3.39 M allocations: 54.075 MiB, 11.90% gc time)\n"
     ]
    },
    {
     "data": {
      "text/plain": [
       "PyObject <matplotlib.image.AxesImage object at 0x7f5afce51910>"
      ]
     },
     "execution_count": 17,
     "metadata": {},
     "output_type": "execute_result"
    }
   ],
   "source": [
    "@time PyPlot.spy(B)"
   ]
  },
  {
   "cell_type": "code",
   "execution_count": 29,
   "metadata": {
    "collapsed": false
   },
   "outputs": [
    {
     "name": "stderr",
     "output_type": "stream",
     "text": [
      "\u001b[1m\u001b[36mINFO: \u001b[39m\u001b[22m\u001b[36mPackage Erdos is already installed\n",
      "\u001b[39m\u001b[1m\u001b[36mINFO: \u001b[39m\u001b[22m\u001b[36mMETADATA is out-of-date — you may not have the latest version of Erdos\n",
      "\u001b[39m\u001b[1m\u001b[36mINFO: \u001b[39m\u001b[22m\u001b[36mUse `Pkg.update()` to get the latest versions of your packages\n",
      "\u001b[39m"
     ]
    }
   ],
   "source": [
    "Pkg.add(\"Erdos\")"
   ]
  },
  {
   "cell_type": "code",
   "execution_count": 43,
   "metadata": {
    "collapsed": false
   },
   "outputs": [
    {
     "data": {
      "text/plain": [
       "Graph{Int64}(19779, 674195)"
      ]
     },
     "execution_count": 43,
     "metadata": {},
     "output_type": "execute_result"
    }
   ],
   "source": [
    "#Graph{T}(B, upper=false, selfedges=true)\n",
    "import Erdos\n",
    "using Erdos\n",
    "T = Graph(Crb.data)\n",
    "#Graph{T}(B, upper=false, selfedges=true)"
   ]
  },
  {
   "cell_type": "code",
   "execution_count": 38,
   "metadata": {
    "collapsed": false
   },
   "outputs": [
    {
     "ename": "LoadError",
     "evalue": "\u001b[91mTypeError: Type: in parameter, expected Type, got Erdos.Graph{Int64}\u001b[39m",
     "output_type": "error",
     "traceback": [
      "\u001b[91mTypeError: Type: in parameter, expected Type, got Erdos.Graph{Int64}\u001b[39m",
      ""
     ]
    }
   ],
   "source": []
  },
  {
   "cell_type": "code",
   "execution_count": null,
   "metadata": {
    "collapsed": true
   },
   "outputs": [],
   "source": []
  },
  {
   "cell_type": "code",
   "execution_count": null,
   "metadata": {
    "collapsed": true
   },
   "outputs": [],
   "source": []
  }
 ],
 "metadata": {
  "kernelspec": {
   "display_name": "Julia 0.6.0",
   "language": "julia",
   "name": "julia-0.6"
  },
  "language_info": {
   "file_extension": ".jl",
   "mimetype": "application/julia",
   "name": "julia",
   "version": "0.6.0"
  }
 },
 "nbformat": 4,
 "nbformat_minor": 2
}
